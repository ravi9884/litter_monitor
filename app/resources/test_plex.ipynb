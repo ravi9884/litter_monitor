{
 "cells": [
  {
   "cell_type": "code",
   "execution_count": 8,
   "id": "8d83cab8",
   "metadata": {},
   "outputs": [
    {
     "name": "stdout",
     "output_type": "stream",
     "text": [
      "The autoreload extension is already loaded. To reload it, use:\n",
      "  %reload_ext autoreload\n"
     ]
    }
   ],
   "source": [
    "%load_ext autoreload\n",
    "%autoreload 2\n",
    "\n",
    "# import logging\n",
    "from roku import Roku\n",
    "import plexapi\n",
    "import os\n",
    "from dotenv import load_dotenv\n",
    "from litter_monitor.util import plex as p\n",
    "\n",
    "load_dotenv()\n",
    "plex_user = os.environ['PLEX_USER']\n",
    "plex_passwd = os.environ['PLEX_PASSWD']"
   ]
  },
  {
   "cell_type": "code",
   "execution_count": 14,
   "id": "cd8a450f",
   "metadata": {},
   "outputs": [
    {
     "data": {
      "text/plain": [
       "['55\" TCL Roku TV']"
      ]
     },
     "execution_count": 14,
     "metadata": {},
     "output_type": "execute_result"
    }
   ],
   "source": [
    "pl = p.plex_connection(plex_user, plex_passwd, 'swarm-plexserver')\n",
    "[x.title for x in pl.clients()]"
   ]
  },
  {
   "cell_type": "code",
   "execution_count": 15,
   "id": "1e21967a",
   "metadata": {},
   "outputs": [
    {
     "data": {
      "text/plain": [
       "<PlexClient:http://192.168.1.115:55\"-TCL-Roku-TV>"
      ]
     },
     "execution_count": 15,
     "metadata": {},
     "output_type": "execute_result"
    }
   ],
   "source": [
    "pl.client('55\" TCL Roku TV')"
   ]
  },
  {
   "cell_type": "code",
   "execution_count": 3,
   "id": "dee2e431",
   "metadata": {},
   "outputs": [
    {
     "data": {
      "text/plain": [
       "'Nintendo Switch'"
      ]
     },
     "execution_count": 3,
     "metadata": {},
     "output_type": "execute_result"
    }
   ],
   "source": [
    "server_ip=\"192.168.1.115\"\n",
    "roku = Roku(server_ip)\n",
    "current_app = roku.current_app.name\n",
    "current_app"
   ]
  },
  {
   "cell_type": "code",
   "execution_count": null,
   "id": "b9a1554a",
   "metadata": {},
   "outputs": [],
   "source": []
  }
 ],
 "metadata": {
  "kernelspec": {
   "display_name": "Python 3",
   "language": "python",
   "name": "python3"
  },
  "language_info": {
   "codemirror_mode": {
    "name": "ipython",
    "version": 3
   },
   "file_extension": ".py",
   "mimetype": "text/x-python",
   "name": "python",
   "nbconvert_exporter": "python",
   "pygments_lexer": "ipython3",
   "version": "3.7.10"
  }
 },
 "nbformat": 4,
 "nbformat_minor": 5
}
