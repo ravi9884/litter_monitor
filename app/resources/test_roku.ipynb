{
 "cells": [
  {
   "cell_type": "code",
   "execution_count": 5,
   "id": "a98a2d72",
   "metadata": {},
   "outputs": [
    {
     "name": "stdout",
     "output_type": "stream",
     "text": [
      "The autoreload extension is already loaded. To reload it, use:\n",
      "  %reload_ext autoreload\n"
     ]
    }
   ],
   "source": [
    "%load_ext autoreload\n",
    "%autoreload 2\n",
    "\n",
    "# import logging\n",
    "from roku import Roku"
   ]
  },
  {
   "cell_type": "code",
   "execution_count": 8,
   "id": "91571312",
   "metadata": {},
   "outputs": [
    {
     "data": {
      "text/plain": [
       "'Nintendo Switch'"
      ]
     },
     "execution_count": 8,
     "metadata": {},
     "output_type": "execute_result"
    }
   ],
   "source": [
    "server_ip=\"192.168.1.115\"\n",
    "roku = Roku(server_ip)\n",
    "current_app = roku.current_app.name\n",
    "current_app"
   ]
  },
  {
   "cell_type": "code",
   "execution_count": 12,
   "id": "009b2b84",
   "metadata": {},
   "outputs": [
    {
     "data": {
      "text/plain": [
       "<Application: [13535] Plex - Free Movies & TV v6.7.24>"
      ]
     },
     "execution_count": 12,
     "metadata": {},
     "output_type": "execute_result"
    }
   ],
   "source": [
    "roku['Plex - Free Movies & TV']"
   ]
  },
  {
   "cell_type": "code",
   "execution_count": 4,
   "id": "9c77d84b",
   "metadata": {},
   "outputs": [
    {
     "ename": "AttributeError",
     "evalue": "type object 'Roku' has no attribute 'launch_app'",
     "output_type": "error",
     "traceback": [
      "\u001b[0;31m---------------------------------------------------------------------------\u001b[0m",
      "\u001b[0;31mAttributeError\u001b[0m                            Traceback (most recent call last)",
      "\u001b[0;32m<ipython-input-4-1a32cf1c0196>\u001b[0m in \u001b[0;36m<module>\u001b[0;34m\u001b[0m\n\u001b[0;32m----> 1\u001b[0;31m \u001b[0mRoku\u001b[0m\u001b[0;34m.\u001b[0m\u001b[0mlaunch_app\u001b[0m\u001b[0;34m(\u001b[0m\u001b[0mserver_ip\u001b[0m\u001b[0;34m)\u001b[0m\u001b[0;34m\u001b[0m\u001b[0;34m\u001b[0m\u001b[0m\n\u001b[0m",
      "\u001b[0;31mAttributeError\u001b[0m: type object 'Roku' has no attribute 'launch_app'"
     ]
    }
   ],
   "source": [
    "Roku.launch_app(server_ip)"
   ]
  }
 ],
 "metadata": {
  "kernelspec": {
   "display_name": "Python 3",
   "language": "python",
   "name": "python3"
  },
  "language_info": {
   "codemirror_mode": {
    "name": "ipython",
    "version": 3
   },
   "file_extension": ".py",
   "mimetype": "text/x-python",
   "name": "python",
   "nbconvert_exporter": "python",
   "pygments_lexer": "ipython3",
   "version": "3.7.10"
  }
 },
 "nbformat": 4,
 "nbformat_minor": 5
}
